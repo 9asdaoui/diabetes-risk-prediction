{
 "cells": [
  {
   "cell_type": "markdown",
   "id": "535c6432",
   "metadata": {},
   "source": [
    "# K-Means + Visualization"
   ]
  }
 ],
 "metadata": {
  "language_info": {
   "name": "python"
  }
 },
 "nbformat": 4,
 "nbformat_minor": 5
}
