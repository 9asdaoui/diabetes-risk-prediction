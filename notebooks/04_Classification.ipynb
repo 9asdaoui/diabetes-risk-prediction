{
 "cells": [
  {
   "cell_type": "markdown",
   "id": "115fa083",
   "metadata": {},
   "source": [
    "# Model training and evaluation\n",
    "---\n",
    "---"
   ]
  },
  {
   "cell_type": "markdown",
   "id": "8ea28ed1",
   "metadata": {},
   "source": [
    "## Define target y (risk_category) and features X."
   ]
  },
  {
   "cell_type": "code",
   "execution_count": 45,
   "id": "fe4187ce",
   "metadata": {},
   "outputs": [],
   "source": [
    "import pandas as pd\n",
    "\n",
    "\n",
    "df = pd.read_csv(\"../data/clustered_data.csv\")\n",
    "\n",
    "y = df[\"Cluster\"]\n",
    "X = df.drop(columns=[\"Cluster\", \"risk_category\"])"
   ]
  },
  {
   "cell_type": "markdown",
   "id": "3b1f7f9e",
   "metadata": {},
   "source": [
    "## Split data (train/test with train_test_split)."
   ]
  },
  {
   "cell_type": "code",
   "execution_count": 46,
   "id": "dcd4b750",
   "metadata": {},
   "outputs": [],
   "source": [
    "from sklearn.model_selection import train_test_split\n",
    "\n",
    "X_train, X_test, y_train, y_test = train_test_split(\n",
    "    X, y, test_size=0.2, random_state=474\n",
    ")\n"
   ]
  },
  {
   "cell_type": "markdown",
   "id": "dd3ce4de",
   "metadata": {},
   "source": [
    "## Handle class imbalance"
   ]
  },
  {
   "cell_type": "code",
   "execution_count": 47,
   "id": "c44c5ece",
   "metadata": {},
   "outputs": [
    {
     "name": "stdout",
     "output_type": "stream",
     "text": [
      "Before: Cluster\n",
      "1    347\n",
      "0    259\n",
      "Name: count, dtype: int64\n",
      "After: Cluster\n",
      "0    347\n",
      "1    347\n",
      "Name: count, dtype: int64\n"
     ]
    }
   ],
   "source": [
    "from imblearn.over_sampling import RandomOverSampler\n",
    "\n",
    "ros = RandomOverSampler(random_state=42)\n",
    "X_train_res, y_train_res = ros.fit_resample(X_train, y_train)\n",
    "\n",
    "\n",
    "print(\"Before:\", y_train.value_counts())\n",
    "print(\"After:\", y_train_res.value_counts())\n"
   ]
  },
  {
   "cell_type": "markdown",
   "id": "6f30b609",
   "metadata": {},
   "source": [
    "### Model Training & Evaluation\n",
    "\n",
    "- **Models:** Random Forest, SVM, Logistic Regression, Decision Tree, XGBoost  \n",
    "- **Metrics:** Confusion Matrix, Precision, Recall, F1-Score  \n",
    "- **Validation:** 5-fold Cross-validation for robustness"
   ]
  },
  {
   "cell_type": "code",
   "execution_count": 48,
   "id": "59732044",
   "metadata": {},
   "outputs": [
    {
     "name": "stdout",
     "output_type": "stream",
     "text": [
      "\n",
      "🔹 Model: Random Forest\n",
      "Confusion Matrix:\n",
      " [[71  3]\n",
      " [ 8 70]]\n",
      "\n",
      "🔹 Model: SVM\n",
      "Confusion Matrix:\n",
      " [[70  4]\n",
      " [ 3 75]]\n",
      "\n",
      "🔹 Model: Gradient Boosting\n",
      "Confusion Matrix:\n",
      " [[71  3]\n",
      " [ 8 70]]\n",
      "\n",
      "🔹 Model: Decision Tree\n",
      "Confusion Matrix:\n",
      " [[69  5]\n",
      " [16 62]]\n",
      "\n",
      "🔹 Model: Logistic Regression\n",
      "Confusion Matrix:\n",
      " [[74  0]\n",
      " [ 0 78]]\n",
      "\n",
      "🔹 Model: XGBoost\n",
      "Confusion Matrix:\n",
      " [[72  2]\n",
      " [ 9 69]]\n",
      "\n",
      "✅ Final Model Comparison:\n",
      "\n",
      "                     Accuracy  Precision    Recall  F1-score   CV Mean\n",
      "Random Forest        0.927632   0.929611  0.927632  0.927616  0.935317\n",
      "SVM                  0.953947   0.954010  0.953947  0.953937  0.970974\n",
      "Gradient Boosting    0.927632   0.929611  0.927632  0.927616  0.941957\n",
      "Decision Tree        0.861842   0.870064  0.861842  0.861381  0.857494\n",
      "Logistic Regression  1.000000   1.000000  1.000000  1.000000  0.993404\n",
      "XGBoost              0.927632   0.931451  0.927632  0.927566  0.936659\n"
     ]
    }
   ],
   "source": [
    "from sklearn.ensemble import RandomForestClassifier, GradientBoostingClassifier\n",
    "from sklearn.model_selection import cross_val_score\n",
    "from sklearn.tree import DecisionTreeClassifier\n",
    "from sklearn.model_selection import cross_val_score\n",
    "from sklearn.linear_model import LogisticRegression\n",
    "from sklearn.svm import SVC\n",
    "import numpy as np\n",
    "from xgboost import XGBClassifier\n",
    "from sklearn.metrics import (\n",
    "    accuracy_score,\n",
    "    precision_score,\n",
    "    confusion_matrix,\n",
    "    recall_score,\n",
    "    f1_score,\n",
    ")\n",
    "\n",
    "models = {\n",
    "    \"Random Forest\": RandomForestClassifier(random_state=42),\n",
    "    \"SVM\": SVC(random_state=42),\n",
    "    \"Gradient Boosting\": GradientBoostingClassifier(random_state=42),\n",
    "    \"Decision Tree\": DecisionTreeClassifier(random_state=42),\n",
    "    \"Logistic Regression\": LogisticRegression(random_state=42),\n",
    "    \"XGBoost\": XGBClassifier(random_state=42)\n",
    "}\n",
    "\n",
    "results = {}\n",
    "\n",
    "for name, model in models.items():\n",
    "    print(f\"\\n🔹 Model: {name}\")\n",
    "    model.fit(X_train_res, y_train_res)\n",
    "    y_pred = model.predict(X_test)\n",
    "\n",
    "    acc = accuracy_score(y_test, y_pred)\n",
    "    prec = precision_score(y_test, y_pred, average='weighted')\n",
    "    rec = recall_score(y_test, y_pred, average='weighted')\n",
    "    f1 = f1_score(y_test, y_pred, average='weighted')\n",
    "\n",
    "    cm = confusion_matrix(y_test, y_pred)\n",
    "    print(\"Confusion Matrix:\\n\", cm)\n",
    "\n",
    "    cv_scores = cross_val_score(model, X, y, cv=5, scoring='accuracy')\n",
    "    cv_mean = np.mean(cv_scores)\n",
    "\n",
    "    results[name] = {\n",
    "        \"Accuracy\": acc,\n",
    "        \"Precision\": prec,\n",
    "        \"Recall\": rec,\n",
    "        \"F1-score\": f1,\n",
    "        \"CV Mean\": cv_mean\n",
    "    }\n",
    "\n",
    "results_df = pd.DataFrame(results).T\n",
    "print(\"\\n✅ Final Model Comparison:\\n\")\n",
    "print(results_df)\n"
   ]
  },
  {
   "cell_type": "markdown",
   "id": "92adfab0",
   "metadata": {},
   "source": [
    "## Perform hyperparameter tuning with GridSearchCV."
   ]
  },
  {
   "cell_type": "code",
   "execution_count": 49,
   "id": "5ac220ef",
   "metadata": {},
   "outputs": [
    {
     "name": "stdout",
     "output_type": "stream",
     "text": [
      "\n",
      "🔍 Tuning RandomForest...\n",
      "✅ Best Params for RandomForest: {'max_depth': None, 'min_samples_leaf': 1, 'min_samples_split': 5, 'n_estimators': 100}\n",
      "📈 Best CV Score: 0.9697\n",
      "🎯 Test Accuracy for RandomForest: 0.9079\n",
      "💾 Saved: best_RandomForest_model.joblib\n",
      "\n",
      "🔍 Tuning SVM...\n",
      "✅ Best Params for SVM: {'C': 10, 'gamma': 'scale', 'kernel': 'linear'}\n",
      "📈 Best CV Score: 0.9971\n",
      "🎯 Test Accuracy for SVM: 1.0000\n",
      "💾 Saved: best_SVM_model.joblib\n",
      "\n",
      "🔍 Tuning GradientBoosting...\n",
      "✅ Best Params for GradientBoosting: {'learning_rate': 0.05, 'max_depth': 3, 'n_estimators': 100}\n",
      "📈 Best CV Score: 0.9654\n",
      "🎯 Test Accuracy for GradientBoosting: 0.9079\n",
      "💾 Saved: best_GradientBoosting_model.joblib\n",
      "\n",
      "🔍 Tuning DecisionTree...\n",
      "✅ Best Params for DecisionTree: {'criterion': 'entropy', 'max_depth': None, 'min_samples_split': 2}\n",
      "📈 Best CV Score: 0.9064\n",
      "🎯 Test Accuracy for DecisionTree: 0.8553\n",
      "💾 Saved: best_DecisionTree_model.joblib\n",
      "\n",
      "🔍 Tuning LogisticRegression...\n",
      "✅ Best Params for LogisticRegression: {'C': 10, 'solver': 'lbfgs'}\n",
      "📈 Best CV Score: 0.9957\n",
      "🎯 Test Accuracy for LogisticRegression: 1.0000\n",
      "💾 Saved: best_LogisticRegression_model.joblib\n",
      "\n",
      "🔍 Tuning XGBoost...\n",
      "✅ Best Params for XGBoost: {'learning_rate': 0.2, 'max_depth': 3, 'n_estimators': 200, 'subsample': 0.8}\n",
      "📈 Best CV Score: 0.9712\n",
      "🎯 Test Accuracy for XGBoost: 0.9408\n",
      "💾 Saved: best_XGBoost_model.joblib\n",
      "\n",
      "✅ All best models saved successfully!\n"
     ]
    },
    {
     "name": "stderr",
     "output_type": "stream",
     "text": [
      "c:\\Users\\oussa\\OneDrive\\Desktop\\youcode_ai_projects\\diabetes-risk-prediction\\.venv\\Lib\\site-packages\\xgboost\\training.py:183: UserWarning: [11:50:49] WARNING: C:\\actions-runner\\_work\\xgboost\\xgboost\\src\\learner.cc:738: \n",
      "Parameters: { \"use_label_encoder\" } are not used.\n",
      "\n",
      "  bst.update(dtrain, iteration=i, fobj=obj)\n"
     ]
    }
   ],
   "source": [
    "import pandas as pd\n",
    "from sklearn.model_selection import train_test_split, GridSearchCV\n",
    "from sklearn.ensemble import RandomForestClassifier, GradientBoostingClassifier\n",
    "from sklearn.tree import DecisionTreeClassifier\n",
    "from sklearn.linear_model import LogisticRegression\n",
    "from sklearn.svm import SVC\n",
    "from xgboost import XGBClassifier\n",
    "from sklearn.metrics import accuracy_score\n",
    "from imblearn.over_sampling import RandomOverSampler\n",
    "import joblib\n",
    "\n",
    "models_params = {\n",
    "    \"RandomForest\": {\n",
    "        \"model\": RandomForestClassifier(random_state=42),\n",
    "        \"params\": {\n",
    "            \"n_estimators\": [100, 200],\n",
    "            \"max_depth\": [None, 10, 20],\n",
    "            \"min_samples_split\": [2, 5],\n",
    "            \"min_samples_leaf\": [1, 2]\n",
    "        }\n",
    "    },\n",
    "    \"SVM\": {\n",
    "        \"model\": SVC(probability=True, random_state=42),\n",
    "        \"params\": {\n",
    "            \"C\": [0.1, 1, 10],\n",
    "            \"kernel\": [\"linear\", \"rbf\"],\n",
    "            \"gamma\": [\"scale\", \"auto\"]\n",
    "        }\n",
    "    },\n",
    "    \"GradientBoosting\": {\n",
    "        \"model\": GradientBoostingClassifier(random_state=42),\n",
    "        \"params\": {\n",
    "            \"n_estimators\": [100, 200],\n",
    "            \"learning_rate\": [0.05, 0.1, 0.2],\n",
    "            \"max_depth\": [3, 5]\n",
    "        }\n",
    "    },\n",
    "    \"DecisionTree\": {\n",
    "        \"model\": DecisionTreeClassifier(random_state=42),\n",
    "        \"params\": {\n",
    "            \"max_depth\": [None, 10, 20],\n",
    "            \"min_samples_split\": [2, 5, 10],\n",
    "            \"criterion\": [\"gini\", \"entropy\"]\n",
    "        }\n",
    "    },\n",
    "    \"LogisticRegression\": {\n",
    "        \"model\": LogisticRegression(max_iter=500, random_state=42),\n",
    "        \"params\": {\n",
    "            \"C\": [0.1, 1, 10],\n",
    "            \"solver\": [\"liblinear\", \"lbfgs\"]\n",
    "        }\n",
    "    },\n",
    "    \"XGBoost\": {\n",
    "        \"model\": XGBClassifier(random_state=42, use_label_encoder=False, eval_metric='logloss'),\n",
    "        \"params\": {\n",
    "            \"n_estimators\": [100, 200],\n",
    "            \"max_depth\": [3, 5, 7],\n",
    "            \"learning_rate\": [0.05, 0.1, 0.2],\n",
    "            \"subsample\": [0.8, 1.0]\n",
    "        }\n",
    "    }\n",
    "}\n",
    "\n",
    "best_models = {}\n",
    "for name, config in models_params.items():\n",
    "    print(f\"\\n🔍 Tuning {name}...\")\n",
    "    \n",
    "    grid_search = GridSearchCV(\n",
    "        estimator=config[\"model\"],\n",
    "        param_grid=config[\"params\"],\n",
    "        cv=5,\n",
    "        scoring=\"accuracy\",\n",
    "        n_jobs=-1\n",
    "    )\n",
    "    grid_search.fit(X_train_res, y_train_res)\n",
    "    \n",
    "    best_model = grid_search.best_estimator_\n",
    "    best_models[name] = best_model\n",
    "    \n",
    "    print(f\"✅ Best Params for {name}: {grid_search.best_params_}\")\n",
    "    print(f\"📈 Best CV Score: {grid_search.best_score_:.4f}\")\n",
    "    \n",
    "    y_pred = best_model.predict(X_test)\n",
    "    test_acc = accuracy_score(y_test, y_pred)\n",
    "    print(f\"🎯 Test Accuracy for {name}: {test_acc:.4f}\")\n",
    "    \n",
    "    joblib.dump(best_model, f\"../models/best_{name}_model.pkl\")\n",
    "    print(f\"💾 Saved: best_{name}_model.joblib\")\n",
    "\n",
    "print(\"\\n✅ All best models saved successfully!\")\n"
   ]
  },
  {
   "cell_type": "markdown",
   "id": "9e35e866",
   "metadata": {},
   "source": [
    "## Compare models and select best."
   ]
  },
  {
   "cell_type": "code",
   "execution_count": 50,
   "id": "bb8ec731",
   "metadata": {},
   "outputs": [
    {
     "name": "stdout",
     "output_type": "stream",
     "text": [
      "                 Model  Accuracy  Precision    Recall  F1-score\n",
      "1                  SVM  1.000000   1.000000  1.000000  1.000000\n",
      "4  Logistic Regression  1.000000   1.000000  1.000000  1.000000\n",
      "5              XGBoost  0.940789   0.940886  0.940789  0.940797\n",
      "0        Random Forest  0.907895   0.910636  0.907895  0.907847\n",
      "2    Gradient Boosting  0.907895   0.910636  0.907895  0.907847\n",
      "3        Decision Tree  0.855263   0.857785  0.855263  0.855188\n"
     ]
    }
   ],
   "source": [
    "model_files = {\n",
    "    \"Random Forest\": \"../models/best_RandomForest_model.pkl\",\n",
    "    \"SVM\": \"../models/best_SVM_model.pkl\",\n",
    "    \"Gradient Boosting\": \"../models/best_GradientBoosting_model.pkl\",\n",
    "    \"Decision Tree\": \"../models/best_DecisionTree_model.pkl\",\n",
    "    \"Logistic Regression\": \"../models/best_LogisticRegression_model.pkl\",\n",
    "    \"XGBoost\": \"../models/best_XGBoost_model.pkl\"\n",
    "}\n",
    "\n",
    "results = []\n",
    "\n",
    "for name, path in model_files.items():\n",
    "    model = joblib.load(path)\n",
    "    y_pred = model.predict(X_test)\n",
    "\n",
    "    acc = accuracy_score(y_test, y_pred)\n",
    "    prec = precision_score(y_test, y_pred, average='weighted')\n",
    "    rec = recall_score(y_test, y_pred, average='weighted')\n",
    "    f1 = f1_score(y_test, y_pred, average='weighted')\n",
    "\n",
    "    results.append({\n",
    "        'Model': name,\n",
    "        'Accuracy': acc,\n",
    "        'Precision': prec,\n",
    "        'Recall': rec,\n",
    "        'F1-score': f1\n",
    "    })\n",
    "\n",
    "results_df = pd.DataFrame(results).sort_values(by='F1-score', ascending=False)\n",
    "print(results_df)\n"
   ]
  },
  {
   "cell_type": "markdown",
   "id": "355d1661",
   "metadata": {},
   "source": [
    "## Compare all metrics side by side"
   ]
  },
  {
   "cell_type": "code",
   "execution_count": 51,
   "id": "cfd05961",
   "metadata": {},
   "outputs": [
    {
     "data": {
      "image/png": "[encoded data removed]",
      "text/plain": [
       "<Figure size 1200x600 with 1 Axes>"
      ]
     },
     "metadata": {},
     "output_type": "display_data"
    }
   ],
   "source": [
    "import matplotlib.pyplot as plt\n",
    "import numpy as np\n",
    "\n",
    "metrics = ['Accuracy', 'Precision', 'Recall', 'F1-score']\n",
    "\n",
    "x = np.arange(len(results_df['Model']))\n",
    "width = 0.2 \n",
    "\n",
    "plt.figure(figsize=(12,6))\n",
    "plt.bar(x - 1.5*width, results_df['Accuracy'], width, label='Accuracy')\n",
    "plt.bar(x - 0.5*width, results_df['Precision'], width, label='Precision')\n",
    "plt.bar(x + 0.5*width, results_df['Recall'], width, label='Recall')\n",
    "plt.bar(x + 1.5*width, results_df['F1-score'], width, label='F1-score')\n",
    "\n",
    "plt.xticks(x, results_df['Model'], rotation=30)\n",
    "plt.ylabel('Score')\n",
    "plt.title('Model Performance Comparison')\n",
    "plt.legend()\n",
    "plt.tight_layout()\n",
    "plt.show()"
   ]
  }
 ],
 "metadata": {
  "kernelspec": {
   "display_name": ".venv",
   "language": "python",
   "name": "python3"
  },
  "language_info": {
   "codemirror_mode": {
    "name": "ipython",
    "version": 3
   },
   "file_extension": ".py",
   "mimetype": "text/x-python",
   "name": "python",
   "nbconvert_exporter": "python",
   "pygments_lexer": "ipython3",
   "version": "3.13.7"
  }
 },
 "nbformat": 4,
 "nbformat_minor": 5
}
