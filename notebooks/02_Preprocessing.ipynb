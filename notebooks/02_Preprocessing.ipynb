{
 "cells": [
  {
   "cell_type": "markdown",
   "id": "060494dc",
   "metadata": {},
   "source": [
    "# Cleaning & Normalization\n",
    "---"
   ]
  },
  {
   "cell_type": "markdown",
   "id": "304648a7",
   "metadata": {},
   "source": [
    "## Remove useless column"
   ]
  },
  {
   "cell_type": "code",
   "execution_count": 135,
   "id": "e53b3287",
   "metadata": {},
   "outputs": [
    {
     "data": {
      "text/html": [
       "<div>\n",
       "<style scoped>\n",
       "    .dataframe tbody tr th:only-of-type {\n",
       "        vertical-align: middle;\n",
       "    }\n",
       "\n",
       "    .dataframe tbody tr th {\n",
       "        vertical-align: top;\n",
       "    }\n",
       "\n",
       "    .dataframe thead th {\n",
       "        text-align: right;\n",
       "    }\n",
       "</style>\n",
       "<table border=\"1\" class=\"dataframe\">\n",
       "  <thead>\n",
       "    <tr style=\"text-align: right;\">\n",
       "      <th></th>\n",
       "      <th>Pregnancies</th>\n",
       "      <th>Glucose</th>\n",
       "      <th>BloodPressure</th>\n",
       "      <th>SkinThickness</th>\n",
       "      <th>Insulin</th>\n",
       "      <th>BMI</th>\n",
       "      <th>DiabetesPedigreeFunction</th>\n",
       "      <th>Age</th>\n",
       "    </tr>\n",
       "  </thead>\n",
       "  <tbody>\n",
       "    <tr>\n",
       "      <th>0</th>\n",
       "      <td>6</td>\n",
       "      <td>148</td>\n",
       "      <td>72</td>\n",
       "      <td>35</td>\n",
       "      <td>0</td>\n",
       "      <td>33.6</td>\n",
       "      <td>0.627</td>\n",
       "      <td>50</td>\n",
       "    </tr>\n",
       "    <tr>\n",
       "      <th>1</th>\n",
       "      <td>1</td>\n",
       "      <td>85</td>\n",
       "      <td>66</td>\n",
       "      <td>29</td>\n",
       "      <td>0</td>\n",
       "      <td>26.6</td>\n",
       "      <td>0.351</td>\n",
       "      <td>31</td>\n",
       "    </tr>\n",
       "    <tr>\n",
       "      <th>2</th>\n",
       "      <td>8</td>\n",
       "      <td>183</td>\n",
       "      <td>64</td>\n",
       "      <td>0</td>\n",
       "      <td>0</td>\n",
       "      <td>23.3</td>\n",
       "      <td>0.672</td>\n",
       "      <td>32</td>\n",
       "    </tr>\n",
       "    <tr>\n",
       "      <th>3</th>\n",
       "      <td>1</td>\n",
       "      <td>89</td>\n",
       "      <td>66</td>\n",
       "      <td>23</td>\n",
       "      <td>94</td>\n",
       "      <td>28.1</td>\n",
       "      <td>0.167</td>\n",
       "      <td>21</td>\n",
       "    </tr>\n",
       "    <tr>\n",
       "      <th>4</th>\n",
       "      <td>0</td>\n",
       "      <td>137</td>\n",
       "      <td>40</td>\n",
       "      <td>35</td>\n",
       "      <td>168</td>\n",
       "      <td>43.1</td>\n",
       "      <td>2.288</td>\n",
       "      <td>33</td>\n",
       "    </tr>\n",
       "  </tbody>\n",
       "</table>\n",
       "</div>"
      ],
      "text/plain": [
       "   Pregnancies  Glucose  BloodPressure  SkinThickness  Insulin   BMI  \\\n",
       "0            6      148             72             35        0  33.6   \n",
       "1            1       85             66             29        0  26.6   \n",
       "2            8      183             64              0        0  23.3   \n",
       "3            1       89             66             23       94  28.1   \n",
       "4            0      137             40             35      168  43.1   \n",
       "\n",
       "   DiabetesPedigreeFunction  Age  \n",
       "0                     0.627   50  \n",
       "1                     0.351   31  \n",
       "2                     0.672   32  \n",
       "3                     0.167   21  \n",
       "4                     2.288   33  "
      ]
     },
     "execution_count": 135,
     "metadata": {},
     "output_type": "execute_result"
    }
   ],
   "source": [
    "import pandas as pd\n",
    "\n",
    "df = pd.read_csv(\"../data/raw_data.csv\")\n",
    "df = df.drop(columns=['Unnamed: 0'])\n",
    "df.head()"
   ]
  },
  {
   "cell_type": "markdown",
   "id": "fec2f542",
   "metadata": {},
   "source": [
    "## Handle missing values "
   ]
  },
  {
   "cell_type": "code",
   "execution_count": 136,
   "id": "a57aa72d",
   "metadata": {},
   "outputs": [
    {
     "data": {
      "text/plain": [
       "Pregnancies                   0\n",
       "Glucose                       5\n",
       "BloodPressure                35\n",
       "SkinThickness               227\n",
       "Insulin                     374\n",
       "BMI                          11\n",
       "DiabetesPedigreeFunction      0\n",
       "Age                           0\n",
       "dtype: int64"
      ]
     },
     "execution_count": 136,
     "metadata": {},
     "output_type": "execute_result"
    }
   ],
   "source": [
    "import numpy as np\n",
    "from sklearn.impute import KNNImputer\n",
    "import numpy as np\n",
    "\n",
    "cols_with_zeros = ['Glucose', 'BloodPressure', 'SkinThickness', 'Insulin', 'BMI']\n",
    "df[cols_with_zeros] = df[cols_with_zeros].replace(0, np.nan)\n",
    "\n",
    "df.isnull().sum()\n",
    "# df[['Glucose', 'BloodPressure', 'SkinThickness', 'Insulin', 'BMI']].var()\n"
   ]
  },
  {
   "cell_type": "markdown",
   "id": "083fc260",
   "metadata": {},
   "source": [
    "## Detect outliers IQR"
   ]
  },
  {
   "cell_type": "code",
   "execution_count": 137,
   "id": "5597fed2",
   "metadata": {},
   "outputs": [
    {
     "data": {
      "text/plain": [
       "Pregnancies                   4\n",
       "Glucose                       5\n",
       "BloodPressure                49\n",
       "SkinThickness               230\n",
       "Insulin                     398\n",
       "BMI                          19\n",
       "DiabetesPedigreeFunction     29\n",
       "Age                           9\n",
       "dtype: int64"
      ]
     },
     "execution_count": 137,
     "metadata": {},
     "output_type": "execute_result"
    }
   ],
   "source": [
    "numeric_cols = df.select_dtypes(include=['number']).columns\n",
    "\n",
    "outlier_counts = {}\n",
    "\n",
    "for col in numeric_cols:\n",
    "    Q1 = df[col].quantile(0.25)\n",
    "    Q3 = df[col].quantile(0.75)\n",
    "    IQR = Q3 - Q1\n",
    "    \n",
    "    lower_limit = Q1 - 1.5 * IQR\n",
    "    upper_limit = Q3 + 1.5 * IQR\n",
    "    \n",
    "    df.loc[(df[col] < lower_limit) | (df[col] > upper_limit), col] = np.nan\n",
    "\n",
    "df.isnull().sum()\n",
    "\n"
   ]
  },
  {
   "cell_type": "markdown",
   "id": "d3d05a02",
   "metadata": {},
   "source": [
    "## KNN Imputation for Missing Values"
   ]
  },
  {
   "cell_type": "code",
   "execution_count": 138,
   "id": "3e355387",
   "metadata": {},
   "outputs": [],
   "source": [
    "# df['Glucose'].fillna(df['Glucose'].median(), inplace=True)\n",
    "# df['BMI'].fillna(df['BMI'].median(), inplace=True)\n",
    "# df['BloodPressure'].fillna(df['BloodPressure'].median(), inplace=True)\n",
    "\n",
    "numeric_cols = ['Pregnancies', 'Glucose', 'BloodPressure', 'SkinThickness',\n",
    "                'Insulin', 'BMI', 'DiabetesPedigreeFunction', 'Age']\n",
    "\n",
    "numeric_df = df[numeric_cols]\n",
    "\n",
    "imputer = KNNImputer(n_neighbors=5)\n",
    "\n",
    "imputed_data = imputer.fit_transform(numeric_df)\n",
    "\n",
    "df[numeric_cols] = pd.DataFrame(imputed_data, columns=numeric_cols)"
   ]
  },
  {
   "cell_type": "markdown",
   "id": "84e77c38",
   "metadata": {},
   "source": [
    "## standardize numerical features."
   ]
  },
  {
   "cell_type": "code",
   "execution_count": 139,
   "id": "c343798f",
   "metadata": {},
   "outputs": [
    {
     "data": {
      "text/html": [
       "<div>\n",
       "<style scoped>\n",
       "    .dataframe tbody tr th:only-of-type {\n",
       "        vertical-align: middle;\n",
       "    }\n",
       "\n",
       "    .dataframe tbody tr th {\n",
       "        vertical-align: top;\n",
       "    }\n",
       "\n",
       "    .dataframe thead th {\n",
       "        text-align: right;\n",
       "    }\n",
       "</style>\n",
       "<table border=\"1\" class=\"dataframe\">\n",
       "  <thead>\n",
       "    <tr style=\"text-align: right;\">\n",
       "      <th></th>\n",
       "      <th>Pregnancies</th>\n",
       "      <th>Glucose</th>\n",
       "      <th>BloodPressure</th>\n",
       "      <th>SkinThickness</th>\n",
       "      <th>Insulin</th>\n",
       "      <th>BMI</th>\n",
       "      <th>DiabetesPedigreeFunction</th>\n",
       "      <th>Age</th>\n",
       "    </tr>\n",
       "  </thead>\n",
       "  <tbody>\n",
       "    <tr>\n",
       "      <th>0</th>\n",
       "      <td>0.671008</td>\n",
       "      <td>0.866319</td>\n",
       "      <td>-0.006738</td>\n",
       "      <td>0.671668</td>\n",
       "      <td>0.566821</td>\n",
       "      <td>0.221010</td>\n",
       "      <td>0.802700</td>\n",
       "      <td>1.548902</td>\n",
       "    </tr>\n",
       "    <tr>\n",
       "      <th>1</th>\n",
       "      <td>-0.854732</td>\n",
       "      <td>-1.200646</td>\n",
       "      <td>-0.551449</td>\n",
       "      <td>-0.003369</td>\n",
       "      <td>-1.199918</td>\n",
       "      <td>-0.865349</td>\n",
       "      <td>-0.320802</td>\n",
       "      <td>-0.167395</td>\n",
       "    </tr>\n",
       "    <tr>\n",
       "      <th>2</th>\n",
       "      <td>1.281304</td>\n",
       "      <td>2.014633</td>\n",
       "      <td>-0.733019</td>\n",
       "      <td>0.019132</td>\n",
       "      <td>0.496408</td>\n",
       "      <td>-1.377489</td>\n",
       "      <td>0.985880</td>\n",
       "      <td>-0.077064</td>\n",
       "    </tr>\n",
       "    <tr>\n",
       "      <th>3</th>\n",
       "      <td>-0.854732</td>\n",
       "      <td>-1.069410</td>\n",
       "      <td>-0.551449</td>\n",
       "      <td>-0.678407</td>\n",
       "      <td>-0.633409</td>\n",
       "      <td>-0.632557</td>\n",
       "      <td>-1.069803</td>\n",
       "      <td>-1.070710</td>\n",
       "    </tr>\n",
       "    <tr>\n",
       "      <th>4</th>\n",
       "      <td>-1.159880</td>\n",
       "      <td>0.505421</td>\n",
       "      <td>-2.911863</td>\n",
       "      <td>0.671668</td>\n",
       "      <td>0.550818</td>\n",
       "      <td>1.695354</td>\n",
       "      <td>0.094405</td>\n",
       "      <td>0.013267</td>\n",
       "    </tr>\n",
       "    <tr>\n",
       "      <th>...</th>\n",
       "      <td>...</td>\n",
       "      <td>...</td>\n",
       "      <td>...</td>\n",
       "      <td>...</td>\n",
       "      <td>...</td>\n",
       "      <td>...</td>\n",
       "      <td>...</td>\n",
       "      <td>...</td>\n",
       "    </tr>\n",
       "    <tr>\n",
       "      <th>763</th>\n",
       "      <td>1.891600</td>\n",
       "      <td>-0.675702</td>\n",
       "      <td>0.356403</td>\n",
       "      <td>2.134249</td>\n",
       "      <td>0.742855</td>\n",
       "      <td>0.112374</td>\n",
       "      <td>-1.053521</td>\n",
       "      <td>2.723211</td>\n",
       "    </tr>\n",
       "    <tr>\n",
       "      <th>764</th>\n",
       "      <td>-0.549584</td>\n",
       "      <td>0.013286</td>\n",
       "      <td>-0.188308</td>\n",
       "      <td>-0.228382</td>\n",
       "      <td>0.502809</td>\n",
       "      <td>0.717631</td>\n",
       "      <td>-0.365579</td>\n",
       "      <td>-0.528721</td>\n",
       "    </tr>\n",
       "    <tr>\n",
       "      <th>765</th>\n",
       "      <td>0.365860</td>\n",
       "      <td>-0.019523</td>\n",
       "      <td>-0.006738</td>\n",
       "      <td>-0.678407</td>\n",
       "      <td>-0.345354</td>\n",
       "      <td>-0.927426</td>\n",
       "      <td>-0.752292</td>\n",
       "      <td>-0.257727</td>\n",
       "    </tr>\n",
       "    <tr>\n",
       "      <th>766</th>\n",
       "      <td>-0.854732</td>\n",
       "      <td>0.144522</td>\n",
       "      <td>-1.096160</td>\n",
       "      <td>0.694169</td>\n",
       "      <td>0.009914</td>\n",
       "      <td>-0.322169</td>\n",
       "      <td>-0.328943</td>\n",
       "      <td>1.277908</td>\n",
       "    </tr>\n",
       "    <tr>\n",
       "      <th>767</th>\n",
       "      <td>-0.854732</td>\n",
       "      <td>-0.938174</td>\n",
       "      <td>-0.188308</td>\n",
       "      <td>0.221643</td>\n",
       "      <td>-1.071894</td>\n",
       "      <td>-0.275611</td>\n",
       "      <td>-0.467346</td>\n",
       "      <td>-0.890047</td>\n",
       "    </tr>\n",
       "  </tbody>\n",
       "</table>\n",
       "<p>768 rows × 8 columns</p>\n",
       "</div>"
      ],
      "text/plain": [
       "     Pregnancies   Glucose  BloodPressure  SkinThickness   Insulin       BMI  \\\n",
       "0       0.671008  0.866319      -0.006738       0.671668  0.566821  0.221010   \n",
       "1      -0.854732 -1.200646      -0.551449      -0.003369 -1.199918 -0.865349   \n",
       "2       1.281304  2.014633      -0.733019       0.019132  0.496408 -1.377489   \n",
       "3      -0.854732 -1.069410      -0.551449      -0.678407 -0.633409 -0.632557   \n",
       "4      -1.159880  0.505421      -2.911863       0.671668  0.550818  1.695354   \n",
       "..           ...       ...            ...            ...       ...       ...   \n",
       "763     1.891600 -0.675702       0.356403       2.134249  0.742855  0.112374   \n",
       "764    -0.549584  0.013286      -0.188308      -0.228382  0.502809  0.717631   \n",
       "765     0.365860 -0.019523      -0.006738      -0.678407 -0.345354 -0.927426   \n",
       "766    -0.854732  0.144522      -1.096160       0.694169  0.009914 -0.322169   \n",
       "767    -0.854732 -0.938174      -0.188308       0.221643 -1.071894 -0.275611   \n",
       "\n",
       "     DiabetesPedigreeFunction       Age  \n",
       "0                    0.802700  1.548902  \n",
       "1                   -0.320802 -0.167395  \n",
       "2                    0.985880 -0.077064  \n",
       "3                   -1.069803 -1.070710  \n",
       "4                    0.094405  0.013267  \n",
       "..                        ...       ...  \n",
       "763                 -1.053521  2.723211  \n",
       "764                 -0.365579 -0.528721  \n",
       "765                 -0.752292 -0.257727  \n",
       "766                 -0.328943  1.277908  \n",
       "767                 -0.467346 -0.890047  \n",
       "\n",
       "[768 rows x 8 columns]"
      ]
     },
     "execution_count": 139,
     "metadata": {},
     "output_type": "execute_result"
    }
   ],
   "source": [
    "from sklearn.preprocessing import StandardScaler\n",
    "\n",
    "numeric_cols = df.select_dtypes(include=['number']).columns\n",
    "\n",
    "scaler = StandardScaler()\n",
    "df[numeric_cols] = scaler.fit_transform(df[numeric_cols])\n",
    "df"
   ]
  },
  {
   "cell_type": "markdown",
   "id": "99b20baa",
   "metadata": {},
   "source": [
    "## Save the clean data"
   ]
  },
  {
   "cell_type": "code",
   "execution_count": 140,
   "id": "112a8203",
   "metadata": {},
   "outputs": [
    {
     "name": "stdout",
     "output_type": "stream",
     "text": [
      "DataFrame successfully saved to ../data/clean_data.csv\n"
     ]
    }
   ],
   "source": [
    "file_path = '../data/clean_data.csv' \n",
    "\n",
    "df.to_csv(\n",
    "    file_path, \n",
    "    index=False, \n",
    "    encoding='utf-8' \n",
    ")\n",
    "\n",
    "print(f\"DataFrame successfully saved to {file_path}\")"
   ]
  },
  {
   "cell_type": "markdown",
   "id": "9576117a",
   "metadata": {},
   "source": [
    "## Visualize relationships with pairplots."
   ]
  },
  {
   "cell_type": "code",
   "execution_count": 142,
   "id": "7cf73b94",
   "metadata": {},
   "outputs": [
    {
     "data": {
      "image/png": "[encoded data removed]",
      "text/plain": [
       "<Figure size 1000x800 with 2 Axes>"
      ]
     },
     "metadata": {},
     "output_type": "display_data"
    }
   ],
   "source": [
    "import seaborn as sns\n",
    "import matplotlib.pyplot as plt\n",
    "\n",
    "numeric_df = df[[\n",
    "    'Pregnancies',\n",
    "    'Insulin',\n",
    "    'BMI',\n",
    "    'DiabetesPedigreeFunction', \n",
    "    'Glucose',\n",
    "    'Age',\n",
    "    'BloodPressure',\n",
    "    'SkinThickness'\n",
    "        ]]\n",
    "\n",
    "corr_matrix = numeric_df.corr()\n",
    "\n",
    "plt.figure(figsize=(10,8))\n",
    "sns.heatmap(corr_matrix, annot=True, cmap='coolwarm')\n",
    "plt.show()"
   ]
  }
 ],
 "metadata": {
  "kernelspec": {
   "display_name": ".venv",
   "language": "python",
   "name": "python3"
  },
  "language_info": {
   "codemirror_mode": {
    "name": "ipython",
    "version": 3
   },
   "file_extension": ".py",
   "mimetype": "text/x-python",
   "name": "python",
   "nbconvert_exporter": "python",
   "pygments_lexer": "ipython3",
   "version": "3.13.7"
  }
 },
 "nbformat": 4,
 "nbformat_minor": 5
}
