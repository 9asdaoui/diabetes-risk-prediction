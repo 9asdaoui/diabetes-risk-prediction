{
 "cells": [
  {
   "cell_type": "markdown",
   "id": "060494dc",
   "metadata": {},
   "source": [
    "# Cleaning & Normalization\n",
    "---"
   ]
  },
  {
   "cell_type": "markdown",
   "id": "304648a7",
   "metadata": {},
   "source": [
    "### Remove useless column"
   ]
  },
  {
   "cell_type": "code",
   "execution_count": null,
   "id": "e53b3287",
   "metadata": {},
   "outputs": [],
   "source": [
    "df = df.drop(columns=['Unnamed: 0'])"
   ]
  }
 ],
 "metadata": {
  "kernelspec": {
   "display_name": ".venv",
   "language": "python",
   "name": "python3"
  },
  "language_info": {
   "name": "python",
   "version": "3.13.7"
  }
 },
 "nbformat": 4,
 "nbformat_minor": 5
}
