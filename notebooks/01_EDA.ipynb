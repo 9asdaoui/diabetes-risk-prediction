{
 "cells": [
  {
   "cell_type": "markdown",
   "id": "581cad7b",
   "metadata": {},
   "source": [
    "# Exploratory Data Analysis"
   ]
  }
 ],
 "metadata": {
  "language_info": {
   "name": "python"
  }
 },
 "nbformat": 4,
 "nbformat_minor": 5
}
