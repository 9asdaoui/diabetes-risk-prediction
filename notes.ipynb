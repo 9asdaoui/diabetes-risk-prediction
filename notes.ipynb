{
 "cells": [
  {
   "cell_type": "markdown",
   "id": "170fb19b",
   "metadata": {},
   "source": [
    "### Statistical summary insights\n",
    "| Stat   | Meaning             | Insight                                                            |\n",
    "| ------ | ------------------- | ------------------------------------------------------------------ |\n",
    "| `mean` | Average             | Glucose ≈ 120 (high average — population tends toward prediabetes) |\n",
    "| `std`  | Variation           | High standard deviation for Insulin (115) → large variability      |\n",
    "| `min`  | Minimum             | 0 in several variables → unrealistic values                        |\n",
    "| `max`  | Maximum             | Glucose up to 199, Insulin up to 846 → possible outliers           |\n",
    "| `Age`  | Mean = 33, Max = 81 | Age distribution reasonable                                        |\n"
   ]
  },
  {
   "cell_type": "markdown",
   "id": "a47302b2",
   "metadata": {},
   "source": [
    "## replace zeros with NaN\n",
    "---"
   ]
  },
  {
   "cell_type": "code",
   "execution_count": null,
   "id": "a4877f2a",
   "metadata": {},
   "outputs": [],
   "source": [
    "import numpy as np\n",
    "cols_with_zeros = ['Glucose', 'BloodPressure', 'SkinThickness', 'Insulin', 'BMI']\n",
    "df[cols_with_zeros] = df[cols_with_zeros].replace(0, np.nan)"
   ]
  }
 ],
 "metadata": {
  "language_info": {
   "name": "python"
  }
 },
 "nbformat": 4,
 "nbformat_minor": 5
}
